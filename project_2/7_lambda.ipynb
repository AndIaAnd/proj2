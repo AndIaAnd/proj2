{
 "cells": [
  {
   "cell_type": "markdown",
   "metadata": {},
   "source": [
    "Фильтрация массивов с помощью лямбда-функций и булева доступа по индексу"
   ]
  },
  {
   "cell_type": "markdown",
   "metadata": {},
   "source": [
    "Встречающиеся на практике данные обычно зашумлены. Исследователям, собственно, и платят деньги за то, чтобы очистить данные от этого шума, сделать их удобными для восприятия и выяснить содержащийся в них смысл. А значит, фильтрация данных жизненно важна для практических приложений науки о данных. В этом разделе показано, как создать простейшую функцию для фильтрации.\n",
    "lambda аргументы : выражение\n",
    "Разделенный запятыми список аргументов играет роль входных данных. Лямбда-функция вычисляет выражение и возвращает результат.\n",
    "Посмотрим, как решить поставленную задачу путем создания фильтрующей функции, описанной в виде лямбда-функции."
   ]
  },
  {
   "cell_type": "markdown",
   "metadata": {},
   "source": [
    "создать функцию для фильтрации, принимающую на входе список книг x и их рейтинг y и возвращающую список потенциальных бестселлеров, рейтинг которых превышает заданное пороговое значение: y'>y."
   ]
  },
  {
   "cell_type": "code",
   "execution_count": null,
   "metadata": {},
   "outputs": [],
   "source": [
    "#зависимости\n",
    "import numpy as np\n",
    "#data\n",
    "## Данные (строка = [название, рейтинг])\n",
    "books = np.array([['Coffee Break NumPy', 4.6],\n",
    "['Lord of the Rings', 5.0],\n",
    "['Harry Potter', 4.3],\n",
    "['Winnie-the-Pooh', 3.9],\n",
    "['The Clown of God', 2.2],\n",
    "['Coffee Break Python', 4.7]])\n",
    "\n",
    "#logic\n",
    "\n",
    "predict_best = lambda x, y: x[x[:,1].astype(float) > y]"
   ]
  },
  {
   "cell_type": "code",
   "execution_count": null,
   "metadata": {},
   "outputs": [],
   "source": []
  }
 ],
 "metadata": {
  "interpreter": {
   "hash": "b3ba2566441a7c06988d0923437866b63cedc61552a5af99d1f4fb67d367b25f"
  },
  "kernelspec": {
   "display_name": "Python 3.9.7 ('base')",
   "language": "python",
   "name": "python3"
  },
  "language_info": {
   "name": "python",
   "version": "3.9.7"
  },
  "orig_nbformat": 4
 },
 "nbformat": 4,
 "nbformat_minor": 2
}
