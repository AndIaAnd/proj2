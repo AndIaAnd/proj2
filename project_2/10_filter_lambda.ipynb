{
 "cells": [
  {
   "cell_type": "markdown",
   "metadata": {},
   "source": [
    "Фильтрация массивов с помощью лямбда-функций и булева доступа по индексу\n",
    "Встречающиеся на практике данные обычно зашумлены. Исследователям, \n",
    "собственно, и платят деньги за то, \n",
    "чтобы очистить данные от этого шума, сделать их удобными для восприятия \n",
    "и выяснить содержащийся в них смысл. А значит, фильтрация данных жизненно \n",
    "важна для практических приложений науки о данных. В этом разделе показано, \n",
    "как создать простейшую функцию для фильтрации.\n",
    "lambda аргументы : выражение\n",
    "Разделенный запятыми список аргументов играет роль входных данных. \n",
    "Лямбда-функция вычисляет выражение и возвращает результат.\n",
    "Посмотрим, как решить поставленную задачу путем создания фильтрующей функции, \n",
    "описанной в виде лямбда-функции.\n",
    "создать функцию для фильтрации, \n",
    "принимающую на входе список книг x и их рейтинг y и \n",
    "возвращающую список потенциальных бестселлеров,\n",
    "рейтинг которых превышает заданное пороговое значение: y'>y.\n"
   ]
  },
  {
   "cell_type": "code",
   "execution_count": 1,
   "metadata": {},
   "outputs": [
    {
     "name": "stdout",
     "output_type": "stream",
     "text": [
      "[['Coffee Break NumPy' '4.6']\n",
      " ['Lord of the Rings' '5.0']\n",
      " ['Harry Potter' '4.3']\n",
      " ['Coffee Break Python' '4.7']]\n"
     ]
    }
   ],
   "source": [
    "#зависимости\n",
    "import numpy as np\n",
    "#data\n",
    "## Данные (строка = [название, рейтинг])\n",
    "books = np.array([['Coffee Break NumPy', 4.6],\n",
    "['Lord of the Rings', 5.0],\n",
    "['Harry Potter', 4.3],\n",
    "['Winnie-the-Pooh', 3.9],\n",
    "['The Clown of God', 2.2],\n",
    "['Coffee Break Python', 4.7]])\n",
    "\n",
    "#logic\n",
    "\n",
    "predict_best = lambda x, y: x[x[:,1].astype(float) > y]\n",
    "print(predict_best(books, 3.9))"
   ]
  },
  {
   "cell_type": "markdown",
   "metadata": {},
   "source": [
    "с помощью анонимной функции мы создали массив из чисел(флоат) и после преобразили его в явный флоат и сравнив с у, мы неявно создали массив (тру/фалсе) таким образом, обратившись к неявному массиву, те значения что тру мы вывели на экран, иначе говоря те что превышают 3.9, для нас это бестселлеры."
   ]
  }
 ],
 "metadata": {
  "interpreter": {
   "hash": "ad2bdc8ecc057115af97d19610ffacc2b4e99fae6737bb82f5d7fb13d2f2c186"
  },
  "kernelspec": {
   "display_name": "Python 3.9.7 ('base')",
   "language": "python",
   "name": "python3"
  },
  "language_info": {
   "codemirror_mode": {
    "name": "ipython",
    "version": 3
   },
   "file_extension": ".py",
   "mimetype": "text/x-python",
   "name": "python",
   "nbconvert_exporter": "python",
   "pygments_lexer": "ipython3",
   "version": "3.9.7"
  },
  "orig_nbformat": 4
 },
 "nbformat": 4,
 "nbformat_minor": 2
}
