{
 "cells": [
  {
   "cell_type": "code",
   "execution_count": 3,
   "metadata": {},
   "outputs": [
    {
     "name": "stdout",
     "output_type": "stream",
     "text": [
      "[ 2  6 10 14]\n",
      "[4 5 6 7]\n",
      "[ 8  9 10 11]\n",
      "[[1]\n",
      " [5]]\n",
      "[[ 0  1  2]\n",
      " [ 4  5  6]\n",
      " [ 8  9 10]\n",
      " [12 13 14]]\n",
      "[[15]]\n",
      "[[12 13 14 15]]\n",
      "[[ 3]\n",
      " [ 7]\n",
      " [11]\n",
      " [15]]\n",
      "[[0 1 2 3]\n",
      " [4 5 6 7]]\n"
     ]
    }
   ],
   "source": [
    "import numpy as np \n",
    "import random as rn\n",
    "a = np.array([[0, 1, 2, 3],\n",
    "    [4, 5, 6, 7],\n",
    "    [8, 9, 10, 11],\n",
    "    [12, 13, 14, 15]])\n",
    "\n",
    "print(a[:, 2]) # третий столбец\n",
    "print(a[1, :]) # вторая строка \n",
    "print(a[2, :]) # третья строка \n",
    "print(a[0:2, 1:2]) # третья строка, \n",
    "print(a[:, :-1]) # за исключением, здесь не работает чтение наоборот \n",
    "print(a[-1:, -1:]) # за исключением, здесь не работает чтение наоборот   \n",
    "print(a[-1:, :]) # за исключением, здесь не работает чтение наоборот  \n",
    "print(a[:, -1:]) # за исключением, здесь не работает чтение наоборот  \n",
    "print(a[:-2]) # a[:-2, :] аналогично \n",
    "#остановился на транслировании \n"
   ]
  },
  {
   "cell_type": "code",
   "execution_count": 6,
   "metadata": {},
   "outputs": [
    {
     "name": "stdout",
     "output_type": "stream",
     "text": [
      "Исходный массив [[ 0  1  2  3]\n",
      " [ 4  5  6  7]\n",
      " [ 8  9 10 11]\n",
      " [12 13 14 15]]\n",
      "Развернутый массив [[ 3  2  1  0]\n",
      " [ 7  6  5  4]\n",
      " [11 10  9  8]\n",
      " [15 14 13 12]]\n"
     ]
    }
   ],
   "source": [
    "print(\"Исходный массив\",a[:, :])\n",
    "print(\"Развернутый массив\",a[:, ::-1]) # все таки разворачивается ))) "
   ]
  },
  {
   "cell_type": "code",
   "execution_count": null,
   "metadata": {},
   "outputs": [],
   "source": []
  }
 ],
 "metadata": {
  "interpreter": {
   "hash": "b3ba2566441a7c06988d0923437866b63cedc61552a5af99d1f4fb67d367b25f"
  },
  "kernelspec": {
   "display_name": "Python 3.9.7 ('base')",
   "language": "python",
   "name": "python3"
  },
  "language_info": {
   "codemirror_mode": {
    "name": "ipython",
    "version": 3
   },
   "file_extension": ".py",
   "mimetype": "text/x-python",
   "name": "python",
   "nbconvert_exporter": "python",
   "pygments_lexer": "ipython3",
   "version": "3.9.7"
  },
  "orig_nbformat": 4
 },
 "nbformat": 4,
 "nbformat_minor": 2
}
