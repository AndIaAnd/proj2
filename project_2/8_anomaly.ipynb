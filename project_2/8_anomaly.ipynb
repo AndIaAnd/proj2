{
 "cells": [
  {
   "cell_type": "markdown",
   "metadata": {},
   "source": [
    "В этом проекте мы будем изучать данные о загрязненности воздуха в городах. А именно, по представленному двумерному массиву NumPy с данными измерений загрязнений (столбцы) для нескольких городов (строки) мы найдем города с загрязнением выше среднего. Полученные при чтении этого раздела навыки пригодятся вам при поиске аномальных значений в различных наборах данных."
   ]
  },
  {
   "cell_type": "markdown",
   "metadata": {},
   "source": [
    "Индекс качества воздуха (Air Quality Index, AQI) служит для оценки опасности вредного воздействия на здоровье и часто применяется для сравнения качества воздуха в различных городах. В следующем однострочнике мы будем исследовать AQI четырех городов: Гонконга, Нью-Йорка, Берлина и Монреаля.\n",
    "Данный однострочник выявляет города, загрязненные выше среднего, то есть такие, максимальное значение AQI которых выше общего среднего значения по всем измерениям всех городов.\n",
    "Важная составляющая нашего решения: поиск элементов в массиве NumPy, удовлетворяющих заданному условию.\n",
    "Это распространенная задача в data science, с которой вы будете сталкиваться очень часто.\n",
    "\n",
    "Итак, разберемся, как найти элементы массива, удовлетворяющие определенному условию. NumPy предоставляет функцию nonzero() для поиска индексов элементов в массиве, которые не равны нулю."
   ]
  },
  {
   "cell_type": "code",
   "execution_count": 2,
   "metadata": {},
   "outputs": [
    {
     "name": "stdout",
     "output_type": "stream",
     "text": [
      "(array([0, 1, 1, 2], dtype=int64), array([0, 1, 2, 0], dtype=int64))\n"
     ]
    }
   ],
   "source": [
    "import numpy as np\n",
    "\n",
    "x = np.array([[1, 0, 0], [0, 2, 2], [3, 0, 0]])\n",
    "print(np.nonzero(x))"
   ]
  },
  {
   "cell_type": "code",
   "execution_count": 3,
   "metadata": {},
   "outputs": [
    {
     "name": "stdout",
     "output_type": "stream",
     "text": [
      "[[ True False False]\n",
      " [False  True  True]\n",
      " [ True False False]]\n"
     ]
    }
   ],
   "source": [
    "print(x >= 1) \n",
    "# проверяем с помощью булевых операторов"
   ]
  },
  {
   "cell_type": "code",
   "execution_count": 4,
   "metadata": {},
   "outputs": [
    {
     "name": "stdout",
     "output_type": "stream",
     "text": [
      "it's very bad Sity {'Berlin', 'Hong Kong', 'New York'}\n"
     ]
    }
   ],
   "source": [
    "## Данные: измерения индекса качества воздуха, AQI (строка = город)\n",
    "X = np.array(\n",
    "[[ 42, 40, 41, 43, 44, 43 ], # Гонконг\n",
    "[ 30, 31, 29, 29, 29, 30 ], # Нью-Йорк\n",
    "[ 8, 13, 31, 11, 11, 9 ], # Берлин\n",
    "[ 11, 11, 12, 13, 11, 12 ]]) # Монреаль\n",
    "\n",
    "cities = np.array([\"Hong Kong\", \"New York\", \"Berlin\", \"Montreal\"])\n",
    "\n",
    "### logic \n",
    "\n",
    "poll = set(cities[np.nonzero(X > np.average(X))[0]])\n",
    "\n",
    "print(\"it's very bad Sity\",poll)"
   ]
  },
  {
   "cell_type": "markdown",
   "metadata": {},
   "source": [
    "мы вызываем коллекцию из элементов соотвествующих переменной города, в которой мы \"находим\" датасет, в  котором не нулевые элементы сравниваются с средним по датасету, и вызываем только те, кто соотвествуют булеву значению 0."
   ]
  },
  {
   "cell_type": "code",
   "execution_count": 5,
   "metadata": {},
   "outputs": [
    {
     "name": "stdout",
     "output_type": "stream",
     "text": [
      "[[ True  True  True  True  True  True]\n",
      " [ True  True  True  True  True  True]\n",
      " [False False  True False False False]\n",
      " [False False False False False False]]\n"
     ]
    }
   ],
   "source": [
    "print(X > np.average(X))"
   ]
  },
  {
   "cell_type": "markdown",
   "metadata": {},
   "source": [
    "Напомним, что значение True языка Python представлено значением 1 типа integer, а False — 0. На самом деле тип объектов True и False — bool — является подклассом int. Таким образом, каждое булево значение является также и целочисленным значением. Благодаря этому мы можем воспользоваться функцией nonzero() для поиска всех удовлетворяющих условию индексов строк и столбцов, вот так:"
   ]
  },
  {
   "cell_type": "code",
   "execution_count": 6,
   "metadata": {},
   "outputs": [
    {
     "name": "stdout",
     "output_type": "stream",
     "text": [
      "(array([0, 0, 0, 0, 0, 0, 1, 1, 1, 1, 1, 1, 2], dtype=int64), array([0, 1, 2, 3, 4, 5, 0, 1, 2, 3, 4, 5, 2], dtype=int64))\n"
     ]
    }
   ],
   "source": [
    "print(np.nonzero(X > np.average(X)))"
   ]
  },
  {
   "cell_type": "markdown",
   "metadata": {},
   "source": [
    "мы можем воспользоваться для извлечения символьных названий городов из нашего строкового массива с помощью расширенного доступа по индексу (advanced indexing) — методики доступа по индексу, позволяющей описывать не непрерывную последовательность индексов массива, Таким образом можно обращаться к произвольным элементам данного массива NumPy, указывая последовательность либо целых чисел (выбираемых индексов), либо булевых значений (для выбора тех индексов, для которых соответствующее булево значение равно True):"
   ]
  },
  {
   "cell_type": "code",
   "execution_count": 7,
   "metadata": {},
   "outputs": [
    {
     "name": "stdout",
     "output_type": "stream",
     "text": [
      "['Hong Kong' 'Hong Kong' 'Hong Kong' 'Hong Kong' 'Hong Kong' 'Hong Kong'\n",
      " 'New York' 'New York' 'New York' 'New York' 'New York' 'New York'\n",
      " 'Berlin']\n"
     ]
    }
   ],
   "source": [
    "print(cities[np.nonzero(X > np.average(X))[0]])"
   ]
  },
  {
   "cell_type": "markdown",
   "metadata": {},
   "source": [
    "Как видите, в полученной последовательности строковых значений немало повторов, поскольку в числе измерений AQI Гонконга и Нью-Йорка много значений выше среднего.\n",
    "Осталось только убрать эти повторы. Для этого мы преобразуем нашу последовательность во множество Python, в котором по определению отсутствуют дублирующиеся значения, и получим краткую сводку названий всех городов, степень загрязнения воздуха в которых превышает средние значения AQI."
   ]
  },
  {
   "cell_type": "code",
   "execution_count": 8,
   "metadata": {},
   "outputs": [
    {
     "name": "stdout",
     "output_type": "stream",
     "text": [
      "{'Berlin', 'Hong Kong', 'New York'}\n"
     ]
    }
   ],
   "source": [
    "print(set(cities[np.nonzero(X > np.average(X))[0]]))"
   ]
  },
  {
   "cell_type": "markdown",
   "metadata": {},
   "source": [
    "Как найти человека с максимальным доходом после уплаты налогов в группе людей при заданных годовых зарплатах и ставках налогообложения?"
   ]
  },
  {
   "cell_type": "code",
   "execution_count": 9,
   "metadata": {},
   "outputs": [
    {
     "name": "stdout",
     "output_type": "stream",
     "text": [
      "81.0\n",
      "{'alice'}\n"
     ]
    }
   ],
   "source": [
    "import numpy as np\n",
    "#data\n",
    "alice = [99, 101, 103]\n",
    "bob = [110, 108, 105]\n",
    "tim = [90, 88, 85]\n",
    "salaries = np.array([alice, bob, tim])\n",
    "taxation = np.array([[0.2, 0.25, 0.22],\n",
    "[0.4, 0.5, 0.5],\n",
    "[0.1, 0.2, 0.1]])\n",
    "#logic\n",
    "uppend = np.max(salaries - salaries * taxation)\n",
    "salaries1 = np.array([\"alice\", \"bob\", \"tim\"])\n",
    "print(uppend)\n",
    "print(set(salaries1[np.nonzero(np.max(uppend))]))"
   ]
  },
  {
   "cell_type": "markdown",
   "metadata": {},
   "source": [
    "переделываем задание из прошлых глав \n",
    ",была проблема с выводом, пока не выяснилось \n",
    "что нужно \"спаивать\" для вывода \"сет\"\n",
    "непосредственно строки и цифры "
   ]
  },
  {
   "cell_type": "code",
   "execution_count": 3,
   "metadata": {},
   "outputs": [],
   "source": []
  },
  {
   "cell_type": "code",
   "execution_count": null,
   "metadata": {},
   "outputs": [],
   "source": []
  }
 ],
 "metadata": {
  "interpreter": {
   "hash": "ad2bdc8ecc057115af97d19610ffacc2b4e99fae6737bb82f5d7fb13d2f2c186"
  },
  "kernelspec": {
   "display_name": "Python 3.9.7 ('base')",
   "language": "python",
   "name": "python3"
  },
  "language_info": {
   "codemirror_mode": {
    "name": "ipython",
    "version": 3
   },
   "file_extension": ".py",
   "mimetype": "text/x-python",
   "name": "python",
   "nbconvert_exporter": "python",
   "pygments_lexer": "ipython3",
   "version": "3.9.7"
  },
  "orig_nbformat": 4
 },
 "nbformat": 4,
 "nbformat_minor": 2
}
